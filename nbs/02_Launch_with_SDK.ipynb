{
 "cells": [
  {
   "cell_type": "markdown",
   "metadata": {},
   "source": [
    "# Launch with SDK"
   ]
  },
  {
   "cell_type": "code",
   "execution_count": 1,
   "metadata": {},
   "outputs": [],
   "source": [
    "#Import the SdkClient from the gradient package\n",
    "from gradient import sdk_client\n",
    "import os\n",
    "from gradient import constants\n",
    "import re\n",
    "from time import sleep"
   ]
  },
  {
   "cell_type": "code",
   "execution_count": 5,
   "metadata": {
    "jupyter": {
     "source_hidden": true
    }
   },
   "outputs": [],
   "source": [
    "#set projec info\n",
    "project = \"prs3cl0zp\"\n",
    "cluster = \"clpvt0s6x\""
   ]
  },
  {
   "cell_type": "code",
   "execution_count": 3,
   "metadata": {},
   "outputs": [],
   "source": [
    "client = sdk_client.SdkClient(api_key)\n",
    "experiments_list = []"
   ]
  },
  {
   "cell_type": "markdown",
   "metadata": {},
   "source": [
    "## Run github repo as experiment"
   ]
  },
  {
   "cell_type": "code",
   "execution_count": 50,
   "metadata": {},
   "outputs": [],
   "source": [
    "def run_single_node(project, cluster, experiments_list):\n",
    "    env = {\n",
    "        \"EPOCHS_EVAL\":\"10\",\n",
    "        \"TRAIN_EPOCHS\":\"40\",\n",
    "        \"MAX_STEPS\":\"50000\",\n",
    "        \"EVAL_SECS\":\"600\",\n",
    "        \"apiKey_openvino\": \"secret:apiKey_openvino\"     \n",
    "    }\n",
    "\n",
    "    single_node_parameters = { \n",
    "        \"name\": \"single-node-sdk\",\n",
    "        \"project_id\": project,\n",
    "        \"container\": \"paperspace/openvinopipeline:mo\",\n",
    "        \"machine_type\": \"P4000\",\n",
    "        \"command\": \"pip install -r requirements.txt && python mnist.py\",\n",
    "        \"experiment_env\": env,\n",
    "        \"workspace_url\": \"https://github.com/Paperspace/openvino-pipeline.git\", #can be local directory, a git repo or commit, or s3 bucket\n",
    "        \"cluster_id\" : cluster,\n",
    "        \"model_type\" : \"Custom\",\n",
    "        \"model_path\" : \"/artifacts\"\n",
    "    }\n",
    "    #pass dictionary into experiments client\n",
    "\n",
    "    experiment_id = client.experiments.run_single_node(**single_node_parameters)\n",
    "    \n",
    "    print(client.experiments.get(experiment_id))\n",
    "\n",
    "\n",
    "    print(\"https://console.paperspace.com/projects/\"+project+\"/experiments/\" + experiment_id)\n",
    "\n",
    "    experiments_list += [experiment_id]\n",
    "    \n",
    "run_single_node(project, cluster, experiments_list)"
   ]
  },
  {
   "cell_type": "code",
   "execution_count": 9,
   "metadata": {},
   "outputs": [],
   "source": [
    "def run_multi_node_mpi(project, cluster, experiments_list):\n",
    "    multi_node_parameters = { \n",
    "        \"name\": \"mpi-tensorflow\",\n",
    "        \"project_id\": project,\n",
    "        \"worker_container\": \"horovod/horovod:0.18.1-tf1.14.0-torch1.2.0-mxnet1.5.0-py3.6\",\n",
    "        \"worker_machine_type\": \"p2.xlarge\",\n",
    "        \"worker_command\": \"sleep infinity\",\n",
    "        \"worker_count\": 2,\n",
    "        \"master_container\": \"horovod/horovod:0.18.1-tf1.14.0-torch1.2.0-mxnet1.5.0-py3.6\",\n",
    "        \"master_machine_type\": \"p2.xlarge\",\n",
    "        \"master_command\": \"mpirun --allow-run-as-root -np 1 --hostfile /generated/hostfile  -bind-to none -map-by slot  -x NCCL_DEBUG=INFO -mca pml ob1 -mca btl ^openib python mnist_keras.py\",\n",
    "        \"master_count\": 1,\n",
    "        \"workspace_url\": \"https://github.com/Paperspace/horovod-distributed-example.git\",\n",
    "        \"model_type\": \"Tensorflow\",\n",
    "        \"cluster_id\" : cluster,\n",
    "    }\n",
    "    experiment_id = client.experiments.run_mpi_multi_node(**multi_node_parameters)\n",
    "    print(\"https://www.paperspace.com/console/projects/prcl68pnk/experiments/\" + experiment_id)\n",
    "    \n",
    "    experiments_list += [experiment_id]"
   ]
  },
  {
   "cell_type": "markdown",
   "metadata": {},
   "source": [
    "## State & Log Helpers "
   ]
  },
  {
   "cell_type": "code",
   "execution_count": 52,
   "metadata": {},
   "outputs": [],
   "source": [
    "def wait_for_end(experiment_id):\n",
    "    print(\"Watching state of experiment: \"+experiment_id)\n",
    "    state = \"\"\n",
    "    while state != \"stopped\":\n",
    "         state= constants.ExperimentState.get_state_str(client.experiments.get(experiment_id).state)"
   ]
  },
  {
   "cell_type": "code",
   "execution_count": 16,
   "metadata": {},
   "outputs": [
    {
     "name": "stdout",
     "output_type": "stream",
     "text": [
      "adding to tensorboard\n"
     ]
    }
   ],
   "source": [
    "print(\"adding to tensorboard\")\n",
    "tb_id = tb_client.create(experiments=experiments_list)"
   ]
  },
  {
   "cell_type": "markdown",
   "metadata": {},
   "source": [
    "## Wait for Experiments to end"
   ]
  },
  {
   "cell_type": "code",
   "execution_count": 13,
   "metadata": {},
   "outputs": [
    {
     "name": "stdout",
     "output_type": "stream",
     "text": [
      "Watching state of experiment: escik3pmkqat4g\n"
     ]
    }
   ],
   "source": [
    "for exp_id in experiments_list:\n",
    "    wait_for_end(exp_id)"
   ]
  },
  {
   "cell_type": "markdown",
   "metadata": {},
   "source": [
    "## View the output model"
   ]
  },
  {
   "cell_type": "code",
   "execution_count": 53,
   "metadata": {},
   "outputs": [],
   "source": [
    "#get output models of all experiments\n",
    "def get_experiment_models(experiment_list):\n",
    "    models = []\n",
    "    for exp_id in experiment_list:\n",
    "        model = client.models.list(experiment_id = exp_id)\n",
    "        #model was returned\n",
    "        if model != None:\n",
    "            print(\"model found for experiment \"+exp_id)\n",
    "            #if model summary not none\n",
    "            if model[0].summary != None:\n",
    "                print(model[0].summary['MSE'])\n",
    "                models += [[model[0].id, model[0].summary['MSE']]]\n",
    "            else:\n",
    "                models += [[model[0].id, -1]]\n",
    "    return models"
   ]
  },
  {
   "cell_type": "code",
   "execution_count": 54,
   "metadata": {},
   "outputs": [
    {
     "name": "stdout",
     "output_type": "stream",
     "text": [
      "model found for experiment e48sn35v14upc\n",
      "{'max': 0.9909999966621399, 'min': 0.9671000242233276, 'var': 0.00014280217064399636, 'mean': 0.9790500104427338, 'median': 0.9790500104427338, 'stddev': 0.011949986219406128}\n",
      "[['moc88lh7zsctwq', 0.9909999966621399]]\n"
     ]
    }
   ],
   "source": [
    "#wait for model processing to finish up\n",
    "models = get_experiment_models(experiments_list)\n",
    "print(models)"
   ]
  },
  {
   "cell_type": "markdown",
   "metadata": {},
   "source": [
    "## Deploy model using SDK"
   ]
  },
  {
   "cell_type": "code",
   "execution_count": 55,
   "metadata": {},
   "outputs": [
    {
     "name": "stdout",
     "output_type": "stream",
     "text": [
      "best model is moc88lh7zsctwq with acc 0.9909999966621399\n"
     ]
    }
   ],
   "source": [
    "models_sorted = sorted(models, key = lambda x : x[1], reverse=True)\n",
    "[best_model, best_acc] = models_sorted[0]\n",
    "print(\"best model is \" +str(best_model) + \" with acc \" +str(best_acc))"
   ]
  },
  {
   "cell_type": "code",
   "execution_count": 4,
   "metadata": {},
   "outputs": [
    {
     "ename": "SyntaxError",
     "evalue": "invalid syntax (<ipython-input-4-29b1f5fea57e>, line 5)",
     "output_type": "error",
     "traceback": [
      "\u001b[0;36m  File \u001b[0;32m\"<ipython-input-4-29b1f5fea57e>\"\u001b[0;36m, line \u001b[0;32m5\u001b[0m\n\u001b[0;31m    \"name\": \"deployment-best\",\u001b[0m\n\u001b[0m          ^\u001b[0m\n\u001b[0;31mSyntaxError\u001b[0m\u001b[0;31m:\u001b[0m invalid syntax\n"
     ]
    }
   ],
   "source": [
    "deploy_param = {\n",
    "    \"deployment_type\" : \"Custom\",\n",
    "    \"image_url\": \"intelaipg/openvino-model-server\",\n",
    "    \"command\":  \"/ie-serving-py/start_server.sh ie_serving model --model_path /models/model --model_name bacteria_classifier --port 9001 --rest_port 8001\",\n",
    "    \"name\": \"deployment-open-vino\",\n",
    "    \"machine_type\": \"C5\",\n",
    "    \"instance_count\": 1,\n",
    "    \"min_instance_count\": 1,\n",
    "    \"max_instance_count\": 5,\n",
    "    \"resource\": \"cpuPercentage/targetAverage:0.2\",\n",
    "    \"cluster_id\" : cluster,\n",
    "    \"model_id\" : 'mo4uo3eaccmony',\n",
    "    \"ports\": 8001\n",
    "    \"project_id\": \"prs3cl0zp\",\n",
    "    \"container_model_path\": \"/models/model\",\n",
    "    \"container_url_path\": \"/v1/models/bacteria_classifier\"\n",
    "}\n",
    "deployment_id = client.deployments.create(**deploy_param)\n",
    "client.deployments.start(deployment_id)"
   ]
  },
  {
   "cell_type": "code",
   "execution_count": null,
   "metadata": {},
   "outputs": [],
   "source": [
    "##OR update existing deployment\n",
    "deploy_param[\"deployment_id\"] = \"deqj8z1ium0gi1\"\n",
    "client.deployments.update(**deploy_param)"
   ]
  }
 ],
 "metadata": {
  "celltoolbar": "Tags",
  "kernelspec": {
   "display_name": "Python 3",
   "language": "python",
   "name": "python3"
  },
  "language_info": {
   "codemirror_mode": {
    "name": "ipython",
    "version": 3
   },
   "file_extension": ".py",
   "mimetype": "text/x-python",
   "name": "python",
   "nbconvert_exporter": "python",
   "pygments_lexer": "ipython3",
   "version": "3.6.7"
  }
 },
 "nbformat": 4,
 "nbformat_minor": 4
}
